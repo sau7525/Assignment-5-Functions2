{
 "cells": [
  {
   "cell_type": "code",
   "execution_count": 1,
   "id": "941d24ad-eaa6-45b9-a642-34500677863f",
   "metadata": {},
   "outputs": [],
   "source": [
    "#ANS:1"
   ]
  },
  {
   "cell_type": "code",
   "execution_count": 2,
   "id": "69a75225-edaf-43f7-a670-8557f521e891",
   "metadata": {},
   "outputs": [
    {
     "name": "stdout",
     "output_type": "stream",
     "text": [
      "[('Virat Kohli', 24936), ('Jack Kallis', 25534), ('Ricky Ponting', 27483), ('Sachin Tendulkar', 34357)]\n"
     ]
    }
   ],
   "source": [
    "#Create a python program to sort the given list of tuples based on integer value using a lambda function.\n",
    "l1 = [('Sachin Tendulkar', 34357), ('Ricky Ponting', 27483), ('Jack Kallis', 25534), ('Virat Kohli', 24936)]\n",
    "l1.sort(key = lambda l1: l1[1])\n",
    "print(l1)"
   ]
  },
  {
   "cell_type": "code",
   "execution_count": 3,
   "id": "58ad0762-e422-4e3d-90ec-3f61f0a396f2",
   "metadata": {},
   "outputs": [],
   "source": [
    "#ANS:2"
   ]
  },
  {
   "cell_type": "code",
   "execution_count": 6,
   "id": "5226ec28-132c-41bc-aada-d405cfc79c2d",
   "metadata": {},
   "outputs": [
    {
     "name": "stdout",
     "output_type": "stream",
     "text": [
      "[1, 4, 9, 16, 25, 36, 49, 64, 81, 100]\n"
     ]
    }
   ],
   "source": [
    "#a Python Program to find the squares of all the numbers in the given list of integers using lambda and map functions.\n",
    "l2 = [1, 2, 3, 4, 5, 6, 7, 8, 9, 10]\n",
    "print(list(map(lambda x: x**2, l2)))"
   ]
  },
  {
   "cell_type": "code",
   "execution_count": 7,
   "id": "8a604c12-fcb6-4b09-9209-9b24331da8d7",
   "metadata": {},
   "outputs": [],
   "source": [
    "#ANS:3"
   ]
  },
  {
   "cell_type": "code",
   "execution_count": 8,
   "id": "41717826-4bb4-49b1-93de-bee2936280eb",
   "metadata": {},
   "outputs": [
    {
     "name": "stdout",
     "output_type": "stream",
     "text": [
      "('1', '2', '3', '4', '5', '6', '7', '8', '9', '10')\n"
     ]
    }
   ],
   "source": [
    "#a python program to convert the given list of integers into a tuple of strings. Use map and lambda functions\n",
    "l3 = [1, 2, 3, 4, 5, 6, 7, 8, 9, 10]\n",
    "print(tuple(map(lambda x: str(x), l3)))"
   ]
  },
  {
   "cell_type": "code",
   "execution_count": 9,
   "id": "9a621df4-6df1-4b58-8378-8f879bdf9f8a",
   "metadata": {},
   "outputs": [],
   "source": [
    "#ANS:4"
   ]
  },
  {
   "cell_type": "code",
   "execution_count": 10,
   "id": "eb1fe9ca-abb3-4ecc-8446-31015c0ef183",
   "metadata": {},
   "outputs": [
    {
     "name": "stdout",
     "output_type": "stream",
     "text": [
      "15511210043330985984000000\n"
     ]
    }
   ],
   "source": [
    "#a python program using reduce function to compute the product of a list containing numbers from 1 to 25.\n",
    "from functools import reduce\n",
    "l4=[1, 2, 3, 4, 5, 6, 7, 8, 9, 10, 11, 12, 13, 14, 15, 16, 17, 18, 19, 20, 21, 22, 23, 24, 25]\n",
    "print(reduce(lambda x, y: x*y,  l4))"
   ]
  },
  {
   "cell_type": "code",
   "execution_count": 11,
   "id": "3482caad-4861-4ae0-859d-6c9344a03220",
   "metadata": {},
   "outputs": [],
   "source": [
    "#ANS:5"
   ]
  },
  {
   "cell_type": "code",
   "execution_count": 12,
   "id": "2f6179bc-e8cf-4d2d-affb-7f0fa310ae86",
   "metadata": {},
   "outputs": [
    {
     "name": "stdout",
     "output_type": "stream",
     "text": [
      "[6, 60, 90, 120]\n"
     ]
    }
   ],
   "source": [
    "#a python program to filter the numbers in a given list that are divisible by 2 and 3 using the filter function.\n",
    "l5 = [2, 3, 6, 9, 27, 60, 90, 120, 55, 46]\n",
    "print(list(filter(lambda x: x%2==0 and x%3==0, l5)))"
   ]
  },
  {
   "cell_type": "code",
   "execution_count": 13,
   "id": "bcd4bd9d-cdcf-4195-9c94-baf97d54a617",
   "metadata": {},
   "outputs": [],
   "source": [
    "#ANS:6"
   ]
  },
  {
   "cell_type": "code",
   "execution_count": 15,
   "id": "c162ac33-aa9d-4e56-8c0c-00702c408bad",
   "metadata": {},
   "outputs": [
    {
     "name": "stdout",
     "output_type": "stream",
     "text": [
      "['php', 'aba', 'radar', 'level']\n"
     ]
    }
   ],
   "source": [
    "#a python program to find palindromes in the given list of strings using lambda and filter function.\n",
    "l6 = ['python', 'php', 'aba', 'radar', 'level']\n",
    "print(list(filter(lambda s: s==s[::-1], l6)))"
   ]
  },
  {
   "cell_type": "code",
   "execution_count": null,
   "id": "c8e80ca5-8079-4f72-ab25-502040d44c5e",
   "metadata": {},
   "outputs": [],
   "source": []
  }
 ],
 "metadata": {
  "kernelspec": {
   "display_name": "Python 3 (ipykernel)",
   "language": "python",
   "name": "python3"
  },
  "language_info": {
   "codemirror_mode": {
    "name": "ipython",
    "version": 3
   },
   "file_extension": ".py",
   "mimetype": "text/x-python",
   "name": "python",
   "nbconvert_exporter": "python",
   "pygments_lexer": "ipython3",
   "version": "3.10.8"
  }
 },
 "nbformat": 4,
 "nbformat_minor": 5
}
